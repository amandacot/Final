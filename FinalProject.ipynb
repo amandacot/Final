{
 "cells": [
  {
   "cell_type": "code",
   "execution_count": null,
   "metadata": {},
   "outputs": [],
   "source": [
    "import pandas as pd\n",
    "import matplotlib.pyplot as plt\n",
    "\n",
    "# Read the CSV file into a pandas DataFrame\n",
    "df = pd.read_csv('https://data.wprdc.org/dataset/853a077d-0a31-4292-8a1d-5d60b530169b/resource/b90ccee1-c0aa-43b9-93e2-8a25e690c393/download/sidewalkstreetratioupload.csv')\n",
    "# Create a scatterplot\n",
    "df.plot(kind='scatter', x='SidewalkStepLFt', y='StreetLFt', alpha=0.5)\n",
    "\n",
    "# Set the title and axis labels\n",
    "plt.title('Sidewalk Score vs. Street Score')\n",
    "plt.xlabel('Sidewalk Score')\n",
    "plt.ylabel('Street Score')\n",
    "\n",
    "# Show the plot\n",
    "plt.show()\n",
    "\n",
    "#sidewalk condition to street condition"
   ]
  }
 ],
 "metadata": {
  "kernelspec": {
   "display_name": "Python 3",
   "language": "python",
   "name": "python3"
  },
  "language_info": {
   "codemirror_mode": {
    "name": "ipython",
    "version": 3
   },
   "file_extension": ".py",
   "mimetype": "text/x-python",
   "name": "python",
   "nbconvert_exporter": "python",
   "pygments_lexer": "ipython3",
   "version": "3.8.3"
  }
 },
 "nbformat": 4,
 "nbformat_minor": 4
}
